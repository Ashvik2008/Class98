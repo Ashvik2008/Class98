{
  "nbformat": 4,
  "nbformat_minor": 0,
  "metadata": {
    "colab": {
      "name": "Class 98",
      "provenance": [],
      "collapsed_sections": [],
      "authorship_tag": "ABX9TyMKmzKN6AM36S32XGOt0xek",
      "include_colab_link": true
    },
    "kernelspec": {
      "name": "python3",
      "display_name": "Python 3"
    },
    "language_info": {
      "name": "python"
    }
  },
  "cells": [
    {
      "cell_type": "markdown",
      "metadata": {
        "id": "view-in-github",
        "colab_type": "text"
      },
      "source": [
        "<a href=\"https://colab.research.google.com/github/Ashvik2008/Class98/blob/MASTER/Class_98.ipynb\" target=\"_parent\"><img src=\"https://colab.research.google.com/assets/colab-badge.svg\" alt=\"Open In Colab\"/></a>"
      ]
    },
    {
      "cell_type": "code",
      "execution_count": null,
      "metadata": {
        "id": "SFsW_a3e9Yrj"
      },
      "outputs": [],
      "source": [
        "#File Handling and Functions\n",
        "\n",
        "#\"r\" - Read - Default value. Opens a file for reading, error if the file does not exist\n",
        "#\"a\" - Append - Opens a file for appending, creates the file if it does not exist\n",
        "#\"w\" - Write - Opens a file for writing, creates the file if it does not exist\n",
        "#\"x\" - Create - Creates the specified file, returns an error if the file exists\n",
        "\n",
        "#The open() function takes two parameters; filename, and mode.\n",
        "#In addition you can specify if the file should be handled as binary or text mode\n",
        "\n",
        "#\"t\" - Text - Default value. Text mode\n",
        "#\"b\" - Binary - Binary mode (e.g. images)"
      ]
    },
    {
      "cell_type": "code",
      "source": [
        "#Create File\n",
        "f = open(\"Temp1.txt\", \"x\")"
      ],
      "metadata": {
        "id": "ZsaPd05V-Okz"
      },
      "execution_count": 3,
      "outputs": []
    },
    {
      "cell_type": "code",
      "source": [
        "f = open(\"Temp1.txt\",\"w\")\n",
        "f.write(\"Hi\")\n",
        "f.close()"
      ],
      "metadata": {
        "id": "0YfoONqF-789"
      },
      "execution_count": 4,
      "outputs": []
    },
    {
      "cell_type": "code",
      "source": [
        "f = open(\"Temp1.txt\",\"a\")\n",
        "f.write(\"My name is Ashvik\")\n",
        "f.close()"
      ],
      "metadata": {
        "id": "IIeQNmv__SQb"
      },
      "execution_count": 6,
      "outputs": []
    },
    {
      "cell_type": "code",
      "source": [
        "f = open(\"Temp1.txt\",\"w\")\n",
        "f.write(\"I am overwriting the existing content\")\n",
        "f.close()"
      ],
      "metadata": {
        "id": "t4TFujbP_mWc"
      },
      "execution_count": 7,
      "outputs": []
    },
    {
      "cell_type": "code",
      "source": [
        "import os\n",
        "os.remove(\"Temp.txt\")"
      ],
      "metadata": {
        "id": "nad-nAb9_wOk"
      },
      "execution_count": 8,
      "outputs": []
    },
    {
      "cell_type": "code",
      "source": [
        "import os\n",
        "if os.path.exists(\"Temp.txt\") :\n",
        "  os.remove('Temp.txt')\n",
        "else :\n",
        "  print(\"The file does not exist\")"
      ],
      "metadata": {
        "colab": {
          "base_uri": "https://localhost:8080/"
        },
        "id": "ZY_kvmD6_9O_",
        "outputId": "ae7fd698-0a1d-413e-bee9-838bbb321a79"
      },
      "execution_count": 9,
      "outputs": [
        {
          "output_type": "stream",
          "name": "stdout",
          "text": [
            "The file does not exist\n"
          ]
        }
      ]
    },
    {
      "cell_type": "code",
      "source": [
        "import os\n",
        "os.mkdir(\"Python Folder\")"
      ],
      "metadata": {
        "id": "z4_qNbi5AUVs"
      },
      "execution_count": 10,
      "outputs": []
    },
    {
      "cell_type": "code",
      "source": [
        "import os\n",
        "os.rmdir(\"Python Folder\")"
      ],
      "metadata": {
        "id": "L__CXyJDAhpO"
      },
      "execution_count": 11,
      "outputs": []
    },
    {
      "cell_type": "code",
      "source": [
        "f = open(\"Temp1.txt\",\"r\")\n",
        "#print(f.readline())\n",
        "print(f.read(5))"
      ],
      "metadata": {
        "colab": {
          "base_uri": "https://localhost:8080/"
        },
        "id": "CUdHBXl5AuB9",
        "outputId": "0f5189f3-c2f3-444b-ca86-55c7b99183cf"
      },
      "execution_count": 16,
      "outputs": [
        {
          "output_type": "stream",
          "name": "stdout",
          "text": [
            "I am \n"
          ]
        }
      ]
    },
    {
      "cell_type": "code",
      "source": [
        "f = open(\"Temp1.txt\",\"r\")\n",
        "for x in f:\n",
        "  print(x)"
      ],
      "metadata": {
        "colab": {
          "base_uri": "https://localhost:8080/"
        },
        "id": "vW8wd-HlBcJK",
        "outputId": "4d459576-5858-4721-98e8-217f14d71f31"
      },
      "execution_count": 17,
      "outputs": [
        {
          "output_type": "stream",
          "name": "stdout",
          "text": [
            "I am overwriting the existing content\n",
            "\n",
            "\n",
            "\n",
            "File Handling\n",
            "\n",
            "The key function for working with files in Python is the open() function.\n",
            "\n",
            "\n",
            "\n",
            "The open() function takes two parameters; filename, and mode.\n",
            "\n",
            "\n",
            "\n",
            "There are four different methods (modes) for opening a file:\n",
            "\n",
            "\n",
            "\n",
            "\"r\" - Read - Default value. Opens a file for reading, error if the file does not exist\n",
            "\n",
            "\n",
            "\n",
            "\"a\" - Append - Opens a file for appending, creates the file if it does not exist\n",
            "\n",
            "\n",
            "\n",
            "\"w\" - Write - Opens a file for writing, creates the file if it does not exist\n",
            "\n",
            "\n",
            "\n",
            "\"x\" - Create - Creates the specified file, returns an error if the file exists\n",
            "\n",
            "\n",
            "\n",
            "In addition you can specify if the file should be handled as binary or text mode\n",
            "\n",
            "\n",
            "\n",
            "\"t\" - Text - Default value. Text mode\n",
            "\n",
            "\n",
            "\n",
            "\"b\" - Binary - Binary mode (e.g. images)\n",
            "\n",
            "\n",
            "\n",
            "Syntax\n",
            "\n",
            "To open a file for reading it is enough to specify the name of the file:\n",
            "\n",
            "\n",
            "\n",
            "f = open(\"demofile.txt\")\n",
            "\n",
            "The code above is the same as:\n",
            "\n",
            "\n",
            "\n",
            "f = open(\"demofile.txt\", \"rt\")\n",
            "\n",
            "Because \"r\" for read, and \"t\" for text are the default values, you do not need to specify them.\n"
          ]
        }
      ]
    },
    {
      "cell_type": "code",
      "source": [
        "def my_function():\n",
        "  print(\"Hello from a function\")\n",
        "\n",
        "my_function()"
      ],
      "metadata": {
        "colab": {
          "base_uri": "https://localhost:8080/"
        },
        "id": "djS6m-EUB6Gq",
        "outputId": "5b283f52-ab05-4464-9e63-8959f4ec5940"
      },
      "execution_count": 18,
      "outputs": [
        {
          "output_type": "stream",
          "name": "stdout",
          "text": [
            "Hello from a function\n"
          ]
        }
      ]
    },
    {
      "cell_type": "code",
      "source": [
        "def my_function(lname, fname):\n",
        "  print(fname + \" \" + lname)\n",
        "\n",
        "my_function(\"Emil\", \"Refsnes\")"
      ],
      "metadata": {
        "colab": {
          "base_uri": "https://localhost:8080/"
        },
        "id": "v9nCXCWqCICx",
        "outputId": "124740fa-b2ab-4411-8461-a5d2290317d8"
      },
      "execution_count": 25,
      "outputs": [
        {
          "output_type": "stream",
          "name": "stdout",
          "text": [
            "Refsnes Emil\n"
          ]
        }
      ]
    },
    {
      "cell_type": "code",
      "source": [
        "def my_function(*kids):\n",
        "  print(\"The youngest child is \" + kids[0])\n",
        "\n",
        "my_function(\"Emil\", \"Tobias\")"
      ],
      "metadata": {
        "colab": {
          "base_uri": "https://localhost:8080/"
        },
        "id": "IKYFsy3mCYHQ",
        "outputId": "23cce8e1-117b-4101-b59c-73da14f65c30"
      },
      "execution_count": 21,
      "outputs": [
        {
          "output_type": "stream",
          "name": "stdout",
          "text": [
            "The youngest child is Emil\n"
          ]
        }
      ]
    },
    {
      "cell_type": "code",
      "source": [
        "def my_function(child1, child2, child3):\n",
        "  print(\"The youngest child is \" + child3)\n",
        "\n",
        "my_function(child1 = \"Emil\", child2 = \"Tobias\", child3 = \"Linus\")"
      ],
      "metadata": {
        "colab": {
          "base_uri": "https://localhost:8080/"
        },
        "id": "G3vRALv7D1fD",
        "outputId": "2292eb27-ccb4-486a-fc79-b3940b37637b"
      },
      "execution_count": 24,
      "outputs": [
        {
          "output_type": "stream",
          "name": "stdout",
          "text": [
            "The youngest child is Linus\n"
          ]
        }
      ]
    },
    {
      "cell_type": "code",
      "source": [
        "def my_function(**kid):\n",
        "  print(\"His last name is \" + kid[\"lname\"])\n",
        "\n",
        "my_function(fname = \"Ashvik\", lname = \"Vijay\")"
      ],
      "metadata": {
        "colab": {
          "base_uri": "https://localhost:8080/"
        },
        "id": "Kj9y-imaFDwD",
        "outputId": "68084b35-576c-424c-b009-a2244c2f552c"
      },
      "execution_count": 27,
      "outputs": [
        {
          "output_type": "stream",
          "name": "stdout",
          "text": [
            "His last name is Vijay\n"
          ]
        }
      ]
    },
    {
      "cell_type": "code",
      "source": [
        "introScript = \"My Name is Ashvik, I am in grade 8\"\n",
        "words = introScript.split(\",\")\n",
        "print(words)"
      ],
      "metadata": {
        "colab": {
          "base_uri": "https://localhost:8080/"
        },
        "id": "yn9vSNArFTGF",
        "outputId": "588ac64b-e513-4f96-e34c-c2df47c5fd9e"
      },
      "execution_count": 29,
      "outputs": [
        {
          "output_type": "stream",
          "name": "stdout",
          "text": [
            "['My Name is Ashvik', ' I am in grade 8']\n"
          ]
        }
      ]
    },
    {
      "cell_type": "code",
      "source": [
        "#f = open(\"Sample1.txt\",\"x\")\n",
        "#f = open(\"Sample2.txt\",\"x\")\n",
        "\n",
        "#f = open(\"Sample1.txt\",\"w\")\n",
        "#f.write(\"I am from Sample1.txt\")\n",
        "#f.close()\n",
        "\n",
        "f = open(\"Sample2.txt\",\"w\")\n",
        "f.write(\"I am from Sample2.txt\")\n",
        "f.close()\n",
        "\n",
        "with open(\"Sample1.txt\",\"r\") as a:\n",
        "  data_a = a.read()\n",
        "\n",
        "with open(\"Sample2.txt\",\"r\") as b:\n",
        "  data_b = b.read()\n",
        "\n",
        "with open(\"Sample1.txt\",\"w\") as a:\n",
        "  a.write(data_b)\n",
        "  \n",
        "with open(\"Sample2.txt\",\"w\") as b:\n",
        "  b.write(data_a)"
      ],
      "metadata": {
        "id": "mePg9NorFypu"
      },
      "execution_count": 33,
      "outputs": []
    }
  ]
}